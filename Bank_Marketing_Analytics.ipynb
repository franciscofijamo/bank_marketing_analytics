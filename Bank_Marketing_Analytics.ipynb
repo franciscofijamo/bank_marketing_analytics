{
  "nbformat": 4,
  "nbformat_minor": 0,
  "metadata": {
    "colab": {
      "name": "Bank-Marketing-Analytics.ipynb",
      "provenance": [],
      "collapsed_sections": [
        "9KCRusPGgCML"
      ],
      "authorship_tag": "ABX9TyP0tO3Us1mmRkqkGAe9D0FZ"
    },
    "kernelspec": {
      "name": "python3",
      "display_name": "Python 3"
    }
  },
  "cells": [
    {
      "cell_type": "markdown",
      "metadata": {
        "id": "tPetYNHLXUnq",
        "colab_type": "text"
      },
      "source": [
        "\n",
        "## Business Description\n",
        "\n",
        "dataset link > http://archive.ics.uci.edu/ml/datasets/Bank+Marketing#\n",
        "\n",
        "**Abstract: The data is related with direct marketing campaigns (phone calls) of a Portuguese banking institution. The classification goal is to predict if the client will subscribe a term deposit (variable y).**\n",
        "\n",
        "Artigo: \n",
        "\n",
        "https://medium.com/@mauridurcak/bussines-analitycs-and-logistic-regression-for-bank-marketing-dataset-1f20cb829c85\n",
        "\n",
        "\n",
        "Attribute Information:\n",
        "\n",
        "Input variables:\n",
        "# bank client data:\n",
        "1 - **age** (numeric)\n",
        "2 - **job**: type of job (categorical: 'admin.','blue-collar','entrepreneur','housemaid','management','retired','self-employed','services','student','technician','unemployed','unknown')\n",
        "\n",
        "3 - **marital** : marital status (categorical: 'divorced','married','single','unknown'; note: 'divorced' means divorced or widowed)\n",
        "\n",
        "4 - **education** (categorical: 'basic.4y','basic.6y','basic.9y','high.school','illiterate','professional.course','university.degree','unknown')\n",
        "\n",
        "5 - **default**: has credit in default? (categorical: 'no','yes','unknown')\n",
        "\n",
        "6 - **housing**: has housing loan? (categorical: 'no','yes','unknown')\n",
        "\n",
        "7 - **loan**: has personal loan? (categorical: 'no','yes','unknown')\n",
        "\n",
        "# related with the last contact of the current campaign:\n",
        "8 - **contact**: contact communication type (categorical: 'cellular','telephone')\n",
        "\n",
        "9 - **month**: last contact month of year (categorical: 'jan', 'feb', 'mar', ..., 'nov', 'dec')\n",
        "\n",
        "10 - **day_of_week**: last contact day of the week (categorical: 'mon','tue','wed','thu','fri')\n",
        "\n",
        "11 - **duration**: last contact duration, in seconds (numeric). Important note: this attribute highly affects the output target (e.g., if duration=0 then y='no'). \n",
        "Yet, the duration is not known before a call is performed. Also, after the end of the call y is obviously known. Thus, this input should only be included for benchmark purposes and should be discarded if the intention is to have a realistic predictive model.\n",
        "\n",
        "# other attributes:\n",
        "12 - **campaign**: number of contacts performed during this campaign and for this client (numeric, includes last contact)\n",
        "\n",
        "13 - **pdays**: number of days that passed by after the client was last contacted from a previous campaign (numeric; 999 means client was not previously contacted)\n",
        "\n",
        "14 - **previous**: number of contacts performed before this campaign and for this client (numeric)\n",
        "\n",
        "15 - **poutcome**: outcome of the previous marketing campaign (categorical: 'failure','nonexistent','success')\n",
        "\n",
        "# social and economic context attributes\n",
        "16 - **emp.var.rate**: employment variation rate - quarterly indicator (numeric)\n",
        "\n",
        "17 - **cons.price.idx**: consumer price index - monthly indicator (numeric)\n",
        "\n",
        "18 - **cons.conf.idx**: consumer confidence index - monthly indicator (numeric)\n",
        "\n",
        "19 - **euribor3m**: euribor 3 month rate - daily indicator (numeric)\n",
        "\n",
        "20 - **nr.employed**: number of employees - quarterly indicator (numeric)"
      ]
    },
    {
      "cell_type": "markdown",
      "metadata": {
        "id": "Z2A5BWcdeS5L",
        "colab_type": "text"
      },
      "source": [
        "# 1.0 Imports"
      ]
    },
    {
      "cell_type": "code",
      "metadata": {
        "id": "nnYMYo-KXSZT",
        "colab_type": "code",
        "colab": {
          "base_uri": "https://localhost:8080/",
          "height": 50
        },
        "outputId": "dc9effcf-3dc1-4b19-d7fa-ae8a31778321"
      },
      "source": [
        "import pandas                 as pd\n",
        "import numpy                  as np\n",
        "import seaborn                as sns\n",
        "\n",
        "from IPython.core.display     import HTML\n",
        "from IPython.display          import Image\n",
        "import matplotlib.pyplot      as plt\n",
        "from scipy                    import stats"
      ],
      "execution_count": 1,
      "outputs": [
        {
          "output_type": "stream",
          "text": [
            "/usr/local/lib/python3.6/dist-packages/statsmodels/tools/_testing.py:19: FutureWarning: pandas.util.testing is deprecated. Use the functions in the public API at pandas.testing instead.\n",
            "  import pandas.util.testing as tm\n"
          ],
          "name": "stderr"
        }
      ]
    },
    {
      "cell_type": "markdown",
      "metadata": {
        "id": "9KCRusPGgCML",
        "colab_type": "text"
      },
      "source": [
        "## Help Functions"
      ]
    },
    {
      "cell_type": "code",
      "metadata": {
        "id": "k3SAwcMVf-3B",
        "colab_type": "code",
        "colab": {
          "base_uri": "https://localhost:8080/",
          "height": 0
        },
        "outputId": "ea13d8c9-2df9-4d25-e0cc-19f61240e2c1"
      },
      "source": [
        "# adjust jupyter notebook viz\n",
        "def jupyter_settings():\n",
        "    %matplotlib inline\n",
        "    %pylab inline\n",
        "    plt.style.use( 'bmh' )\n",
        "    plt.rcParams['figure.figsize'] = [25, 12]\n",
        "    plt.rcParams['font.size'] = 24\n",
        "    display( HTML( '<style>.container { width:100% !important; }</style>') )\n",
        "    pd.options.display.max_columns = None\n",
        "    pd.options.display.max_rows = None\n",
        "    pd.set_option( 'display.expand_frame_repr', False )\n",
        "    sns.set()\n",
        "    \n",
        "jupyter_settings()\n",
        "\n",
        "\n",
        "\n",
        "\n",
        "def crammer_v(x,y):\n",
        "    cm = pd.crosstab(x,y).to_numpy()\n",
        "    # n = soma de linhas\n",
        "    n = cm.sum()\n",
        "    # r, k nr de linhas e colunas respectivamente\n",
        "    r,k = cm.shape\n",
        "    \n",
        "    # correcao das equacoes para evitar bias\n",
        "    chi2 = stats.chi2_contingency(cm)[0]\n",
        "    chi2corr = max(0, chi2 -(k-1)*(r-1)/(n-1))\n",
        "    \n",
        "    \n",
        "    kcorr = k - (k-1)**2/(n-1)\n",
        "    rcorr = r - (r-1)**2/(n-1)\n",
        "    \n",
        "    return  np.sqrt( (chi2corr/n) / (min(kcorr-1,rcorr-1))  )\n"
      ],
      "execution_count": 2,
      "outputs": [
        {
          "output_type": "stream",
          "text": [
            "Populating the interactive namespace from numpy and matplotlib\n"
          ],
          "name": "stdout"
        },
        {
          "output_type": "display_data",
          "data": {
            "text/html": [
              "<style>.container { width:100% !important; }</style>"
            ],
            "text/plain": [
              "<IPython.core.display.HTML object>"
            ]
          },
          "metadata": {
            "tags": []
          }
        }
      ]
    },
    {
      "cell_type": "markdown",
      "metadata": {
        "id": "rNxkoRvteWqy",
        "colab_type": "text"
      },
      "source": [
        "# 2.0 Import And Summarize data"
      ]
    },
    {
      "cell_type": "code",
      "metadata": {
        "id": "1Vj20BSwYB0u",
        "colab_type": "code",
        "colab": {}
      },
      "source": [
        "data = pd.read_csv( 'bank.csv', sep = ';')"
      ],
      "execution_count": 3,
      "outputs": []
    },
    {
      "cell_type": "code",
      "metadata": {
        "id": "ml13RGN2flc7",
        "colab_type": "code",
        "colab": {}
      },
      "source": [
        "# separando variaveis numericas, e categoricas\n",
        "\n",
        "num_atributes = data.select_dtypes(include = ['int64'])\n",
        "cat_atributes = data.select_dtypes(exclude = ['int64', 'float64'])\n"
      ],
      "execution_count": 5,
      "outputs": []
    },
    {
      "cell_type": "code",
      "metadata": {
        "id": "7NFFH8KIgBrs",
        "colab_type": "code",
        "colab": {
          "base_uri": "https://localhost:8080/",
          "height": 191
        },
        "outputId": "328f47f0-0a1a-4506-dfeb-db828c6d449b"
      },
      "source": [
        "data.head()"
      ],
      "execution_count": 4,
      "outputs": [
        {
          "output_type": "execute_result",
          "data": {
            "text/html": [
              "<div>\n",
              "<style scoped>\n",
              "    .dataframe tbody tr th:only-of-type {\n",
              "        vertical-align: middle;\n",
              "    }\n",
              "\n",
              "    .dataframe tbody tr th {\n",
              "        vertical-align: top;\n",
              "    }\n",
              "\n",
              "    .dataframe thead th {\n",
              "        text-align: right;\n",
              "    }\n",
              "</style>\n",
              "<table border=\"1\" class=\"dataframe\">\n",
              "  <thead>\n",
              "    <tr style=\"text-align: right;\">\n",
              "      <th></th>\n",
              "      <th>age</th>\n",
              "      <th>job</th>\n",
              "      <th>marital</th>\n",
              "      <th>education</th>\n",
              "      <th>default</th>\n",
              "      <th>balance</th>\n",
              "      <th>housing</th>\n",
              "      <th>loan</th>\n",
              "      <th>contact</th>\n",
              "      <th>day</th>\n",
              "      <th>month</th>\n",
              "      <th>duration</th>\n",
              "      <th>campaign</th>\n",
              "      <th>pdays</th>\n",
              "      <th>previous</th>\n",
              "      <th>poutcome</th>\n",
              "      <th>y</th>\n",
              "    </tr>\n",
              "  </thead>\n",
              "  <tbody>\n",
              "    <tr>\n",
              "      <th>0</th>\n",
              "      <td>30</td>\n",
              "      <td>unemployed</td>\n",
              "      <td>married</td>\n",
              "      <td>primary</td>\n",
              "      <td>no</td>\n",
              "      <td>1787</td>\n",
              "      <td>no</td>\n",
              "      <td>no</td>\n",
              "      <td>cellular</td>\n",
              "      <td>19</td>\n",
              "      <td>oct</td>\n",
              "      <td>79</td>\n",
              "      <td>1</td>\n",
              "      <td>-1</td>\n",
              "      <td>0</td>\n",
              "      <td>unknown</td>\n",
              "      <td>no</td>\n",
              "    </tr>\n",
              "    <tr>\n",
              "      <th>1</th>\n",
              "      <td>33</td>\n",
              "      <td>services</td>\n",
              "      <td>married</td>\n",
              "      <td>secondary</td>\n",
              "      <td>no</td>\n",
              "      <td>4789</td>\n",
              "      <td>yes</td>\n",
              "      <td>yes</td>\n",
              "      <td>cellular</td>\n",
              "      <td>11</td>\n",
              "      <td>may</td>\n",
              "      <td>220</td>\n",
              "      <td>1</td>\n",
              "      <td>339</td>\n",
              "      <td>4</td>\n",
              "      <td>failure</td>\n",
              "      <td>no</td>\n",
              "    </tr>\n",
              "    <tr>\n",
              "      <th>2</th>\n",
              "      <td>35</td>\n",
              "      <td>management</td>\n",
              "      <td>single</td>\n",
              "      <td>tertiary</td>\n",
              "      <td>no</td>\n",
              "      <td>1350</td>\n",
              "      <td>yes</td>\n",
              "      <td>no</td>\n",
              "      <td>cellular</td>\n",
              "      <td>16</td>\n",
              "      <td>apr</td>\n",
              "      <td>185</td>\n",
              "      <td>1</td>\n",
              "      <td>330</td>\n",
              "      <td>1</td>\n",
              "      <td>failure</td>\n",
              "      <td>no</td>\n",
              "    </tr>\n",
              "    <tr>\n",
              "      <th>3</th>\n",
              "      <td>30</td>\n",
              "      <td>management</td>\n",
              "      <td>married</td>\n",
              "      <td>tertiary</td>\n",
              "      <td>no</td>\n",
              "      <td>1476</td>\n",
              "      <td>yes</td>\n",
              "      <td>yes</td>\n",
              "      <td>unknown</td>\n",
              "      <td>3</td>\n",
              "      <td>jun</td>\n",
              "      <td>199</td>\n",
              "      <td>4</td>\n",
              "      <td>-1</td>\n",
              "      <td>0</td>\n",
              "      <td>unknown</td>\n",
              "      <td>no</td>\n",
              "    </tr>\n",
              "    <tr>\n",
              "      <th>4</th>\n",
              "      <td>59</td>\n",
              "      <td>blue-collar</td>\n",
              "      <td>married</td>\n",
              "      <td>secondary</td>\n",
              "      <td>no</td>\n",
              "      <td>0</td>\n",
              "      <td>yes</td>\n",
              "      <td>no</td>\n",
              "      <td>unknown</td>\n",
              "      <td>5</td>\n",
              "      <td>may</td>\n",
              "      <td>226</td>\n",
              "      <td>1</td>\n",
              "      <td>-1</td>\n",
              "      <td>0</td>\n",
              "      <td>unknown</td>\n",
              "      <td>no</td>\n",
              "    </tr>\n",
              "  </tbody>\n",
              "</table>\n",
              "</div>"
            ],
            "text/plain": [
              "   age          job  marital  education default  balance housing loan   contact  day month  duration  campaign  pdays  previous poutcome   y\n",
              "0   30   unemployed  married    primary      no     1787      no   no  cellular   19   oct        79         1     -1         0  unknown  no\n",
              "1   33     services  married  secondary      no     4789     yes  yes  cellular   11   may       220         1    339         4  failure  no\n",
              "2   35   management   single   tertiary      no     1350     yes   no  cellular   16   apr       185         1    330         1  failure  no\n",
              "3   30   management  married   tertiary      no     1476     yes  yes   unknown    3   jun       199         4     -1         0  unknown  no\n",
              "4   59  blue-collar  married  secondary      no        0     yes   no   unknown    5   may       226         1     -1         0  unknown  no"
            ]
          },
          "metadata": {
            "tags": []
          },
          "execution_count": 4
        }
      ]
    },
    {
      "cell_type": "code",
      "metadata": {
        "id": "GIGchMaZLTbq",
        "colab_type": "code",
        "colab": {}
      },
      "source": [
        "## Medidas estatisticas \n",
        "# aplicar operacao em todas colunas\n",
        "central_tendecy = pd.DataFrame(num_atributes.apply(np.mean)).T\n",
        "central_tendecy2 = pd.DataFrame(num_atributes.apply(np.median)).T\n",
        "\n",
        "# Disparsion - std, min, max, range, skew, kurtosis\n",
        "\n",
        "dispersion_std = pd.DataFrame(num_atributes.apply(np.std)).T\n",
        "dispersion_min = pd.DataFrame(num_atributes.apply(min)).T\n",
        "dispersion_max = pd.DataFrame(num_atributes.apply(max)).T\n",
        "dispersion_range = pd.DataFrame(num_atributes.apply(lambda x: x.max() - x.min())).T\n",
        "dispersion_skew = pd.DataFrame(num_atributes.apply(lambda x: x.skew())).T\n",
        "dispersion_kurtosis = pd.DataFrame(num_atributes.apply(lambda x: x.kurtosis())).T\n",
        "\n",
        "metrics = pd.concat([dispersion_min,dispersion_max,dispersion_range,central_tendecy, central_tendecy2,dispersion_std, dispersion_skew,dispersion_kurtosis]).T.reset_index()\n",
        "metrics.columns = ['atributes','min','max','range','mean','median','std','skew','kurtosis']"
      ],
      "execution_count": 16,
      "outputs": []
    },
    {
      "cell_type": "code",
      "metadata": {
        "id": "w1VkxK_Ji-UU",
        "colab_type": "code",
        "colab": {
          "base_uri": "https://localhost:8080/",
          "height": 248
        },
        "outputId": "f3155526-f6a5-41ee-bba6-a39b80ddc09a"
      },
      "source": [
        "metrics"
      ],
      "execution_count": 14,
      "outputs": [
        {
          "output_type": "execute_result",
          "data": {
            "text/html": [
              "<div>\n",
              "<style scoped>\n",
              "    .dataframe tbody tr th:only-of-type {\n",
              "        vertical-align: middle;\n",
              "    }\n",
              "\n",
              "    .dataframe tbody tr th {\n",
              "        vertical-align: top;\n",
              "    }\n",
              "\n",
              "    .dataframe thead th {\n",
              "        text-align: right;\n",
              "    }\n",
              "</style>\n",
              "<table border=\"1\" class=\"dataframe\">\n",
              "  <thead>\n",
              "    <tr style=\"text-align: right;\">\n",
              "      <th></th>\n",
              "      <th>atributes</th>\n",
              "      <th>min</th>\n",
              "      <th>max</th>\n",
              "      <th>range</th>\n",
              "      <th>mean</th>\n",
              "      <th>median</th>\n",
              "      <th>std</th>\n",
              "      <th>skew</th>\n",
              "      <th>kurtosis</th>\n",
              "    </tr>\n",
              "  </thead>\n",
              "  <tbody>\n",
              "    <tr>\n",
              "      <th>0</th>\n",
              "      <td>age</td>\n",
              "      <td>19.0</td>\n",
              "      <td>87.0</td>\n",
              "      <td>68.0</td>\n",
              "      <td>41.170095</td>\n",
              "      <td>39.0</td>\n",
              "      <td>10.575041</td>\n",
              "      <td>0.699501</td>\n",
              "      <td>0.348775</td>\n",
              "    </tr>\n",
              "    <tr>\n",
              "      <th>1</th>\n",
              "      <td>balance</td>\n",
              "      <td>-3313.0</td>\n",
              "      <td>71188.0</td>\n",
              "      <td>74501.0</td>\n",
              "      <td>1422.657819</td>\n",
              "      <td>444.0</td>\n",
              "      <td>3009.305273</td>\n",
              "      <td>6.596431</td>\n",
              "      <td>88.390332</td>\n",
              "    </tr>\n",
              "    <tr>\n",
              "      <th>2</th>\n",
              "      <td>day</td>\n",
              "      <td>1.0</td>\n",
              "      <td>31.0</td>\n",
              "      <td>30.0</td>\n",
              "      <td>15.915284</td>\n",
              "      <td>16.0</td>\n",
              "      <td>8.246755</td>\n",
              "      <td>0.094627</td>\n",
              "      <td>-1.039531</td>\n",
              "    </tr>\n",
              "    <tr>\n",
              "      <th>3</th>\n",
              "      <td>duration</td>\n",
              "      <td>4.0</td>\n",
              "      <td>3025.0</td>\n",
              "      <td>3021.0</td>\n",
              "      <td>263.961292</td>\n",
              "      <td>185.0</td>\n",
              "      <td>259.827892</td>\n",
              "      <td>2.772420</td>\n",
              "      <td>12.530050</td>\n",
              "    </tr>\n",
              "    <tr>\n",
              "      <th>4</th>\n",
              "      <td>campaign</td>\n",
              "      <td>1.0</td>\n",
              "      <td>50.0</td>\n",
              "      <td>49.0</td>\n",
              "      <td>2.793630</td>\n",
              "      <td>2.0</td>\n",
              "      <td>3.109463</td>\n",
              "      <td>4.743914</td>\n",
              "      <td>37.168920</td>\n",
              "    </tr>\n",
              "    <tr>\n",
              "      <th>5</th>\n",
              "      <td>pdays</td>\n",
              "      <td>-1.0</td>\n",
              "      <td>871.0</td>\n",
              "      <td>872.0</td>\n",
              "      <td>39.766645</td>\n",
              "      <td>-1.0</td>\n",
              "      <td>100.110051</td>\n",
              "      <td>2.717071</td>\n",
              "      <td>7.957128</td>\n",
              "    </tr>\n",
              "    <tr>\n",
              "      <th>6</th>\n",
              "      <td>previous</td>\n",
              "      <td>0.0</td>\n",
              "      <td>25.0</td>\n",
              "      <td>25.0</td>\n",
              "      <td>0.542579</td>\n",
              "      <td>0.0</td>\n",
              "      <td>1.693375</td>\n",
              "      <td>5.875259</td>\n",
              "      <td>51.995212</td>\n",
              "    </tr>\n",
              "  </tbody>\n",
              "</table>\n",
              "</div>"
            ],
            "text/plain": [
              "  atributes     min      max    range         mean  median          std      skew   kurtosis\n",
              "0       age    19.0     87.0     68.0    41.170095    39.0    10.575041  0.699501   0.348775\n",
              "1   balance -3313.0  71188.0  74501.0  1422.657819   444.0  3009.305273  6.596431  88.390332\n",
              "2       day     1.0     31.0     30.0    15.915284    16.0     8.246755  0.094627  -1.039531\n",
              "3  duration     4.0   3025.0   3021.0   263.961292   185.0   259.827892  2.772420  12.530050\n",
              "4  campaign     1.0     50.0     49.0     2.793630     2.0     3.109463  4.743914  37.168920\n",
              "5     pdays    -1.0    871.0    872.0    39.766645    -1.0   100.110051  2.717071   7.957128\n",
              "6  previous     0.0     25.0     25.0     0.542579     0.0     1.693375  5.875259  51.995212"
            ]
          },
          "metadata": {
            "tags": []
          },
          "execution_count": 14
        }
      ]
    },
    {
      "cell_type": "code",
      "metadata": {
        "id": "6SYxKnY7qnH7",
        "colab_type": "code",
        "colab": {
          "base_uri": "https://localhost:8080/",
          "height": 133
        },
        "outputId": "724b16c8-38d1-40ea-a916-2a6053334826"
      },
      "source": [
        "# Tabela de frequencia de y\n",
        "y_tab = pd.crosstab(index=data[\"y\"],columns=\"count\")   \n",
        "\n",
        "# medidas estatisticas em relacao a y\n",
        "\n",
        "metric_y = data.groupby('y').mean()\n",
        "\n",
        "# Numero de clientes com saldos negativo\n",
        "negative = data[data['balance'] < 0].count().unique()\n",
        "\n",
        "# Numero de clientes com p_days igual a 1\n",
        "p_days_negative = data[data['pdays'] == -1].count().unique()\n",
        "\n",
        "metric_y"
      ],
      "execution_count": 42,
      "outputs": [
        {
          "output_type": "execute_result",
          "data": {
            "text/html": [
              "<div>\n",
              "<style scoped>\n",
              "    .dataframe tbody tr th:only-of-type {\n",
              "        vertical-align: middle;\n",
              "    }\n",
              "\n",
              "    .dataframe tbody tr th {\n",
              "        vertical-align: top;\n",
              "    }\n",
              "\n",
              "    .dataframe thead th {\n",
              "        text-align: right;\n",
              "    }\n",
              "</style>\n",
              "<table border=\"1\" class=\"dataframe\">\n",
              "  <thead>\n",
              "    <tr style=\"text-align: right;\">\n",
              "      <th></th>\n",
              "      <th>age</th>\n",
              "      <th>balance</th>\n",
              "      <th>day</th>\n",
              "      <th>duration</th>\n",
              "      <th>campaign</th>\n",
              "      <th>pdays</th>\n",
              "      <th>previous</th>\n",
              "    </tr>\n",
              "    <tr>\n",
              "      <th>y</th>\n",
              "      <th></th>\n",
              "      <th></th>\n",
              "      <th></th>\n",
              "      <th></th>\n",
              "      <th></th>\n",
              "      <th></th>\n",
              "      <th></th>\n",
              "    </tr>\n",
              "  </thead>\n",
              "  <tbody>\n",
              "    <tr>\n",
              "      <th>no</th>\n",
              "      <td>40.998000</td>\n",
              "      <td>1403.211750</td>\n",
              "      <td>15.948750</td>\n",
              "      <td>226.347500</td>\n",
              "      <td>2.862250</td>\n",
              "      <td>36.006000</td>\n",
              "      <td>0.471250</td>\n",
              "    </tr>\n",
              "    <tr>\n",
              "      <th>yes</th>\n",
              "      <td>42.491363</td>\n",
              "      <td>1571.955854</td>\n",
              "      <td>15.658349</td>\n",
              "      <td>552.742802</td>\n",
              "      <td>2.266795</td>\n",
              "      <td>68.639155</td>\n",
              "      <td>1.090211</td>\n",
              "    </tr>\n",
              "  </tbody>\n",
              "</table>\n",
              "</div>"
            ],
            "text/plain": [
              "           age      balance        day    duration  campaign      pdays  previous\n",
              "y                                                                                \n",
              "no   40.998000  1403.211750  15.948750  226.347500  2.862250  36.006000  0.471250\n",
              "yes  42.491363  1571.955854  15.658349  552.742802  2.266795  68.639155  1.090211"
            ]
          },
          "metadata": {
            "tags": []
          },
          "execution_count": 42
        }
      ]
    },
    {
      "cell_type": "markdown",
      "metadata": {
        "id": "Sj6_90MrJPDR",
        "colab_type": "text"
      },
      "source": [
        "# Medidas estatisticas dos dados\n",
        "\n",
        "1. A idade minima dos participantes 'e de 19 anos, e a maxima de 87 anos\n",
        "2. O balanco maximo e de 71.188USD e o minimo de -3.313USD de divida\n",
        "3. Duracao minima de chamadas e de 4s, e maximo de 3.025s\n",
        "4. Numero de contactos realizados durante a campanha pra um user, max 50, min 1\n",
        "5. Numero de didas passadis, min -1( podemos subistituir por 0), max, 871 dias\n",
        "6. numero de ligacoes feitas antes da campanha ao cliente, min 0, max 25.\n",
        "\n"
      ]
    },
    {
      "cell_type": "markdown",
      "metadata": {
        "id": "7Ux6TVBJ2Il-",
        "colab_type": "text"
      },
      "source": [
        "# Levantando Hipoteses\n",
        "\n",
        "\n",
        "\n",
        "1. Quais perfis mais engajam nos  nas campanhas?\n",
        "2. Clientes Estudantes nao adirem a campanhas mais que outros perfis\n",
        "3. Quanto maior o nivel de escolaridade, maior seu engajamento na campanha\n",
        "4. Clientes mais contactactados, engajam mais nas campanhas em relacao a menos  contactados\n",
        "5. Clientes adirem mais a campanhas que solteiros\n",
        "6.Clientes com saldo negativo adirem menos as campanhas\n",
        "7. Clientes com emprestimos pessoais, adirem mais as campanhas\n",
        "8. Clientes com telefone, adirem mais as campanhas\n",
        "9. Clientes inadimplentes adirem menos as campanhas\n",
        "10. Clientes com emprestimo habitacional adirem mais a campanhas"
      ]
    },
    {
      "cell_type": "code",
      "metadata": {
        "id": "FRAWaM5afArp",
        "colab_type": "code",
        "colab": {}
      },
      "source": [
        "# Plotando contagem das variaveis categoricas.\n",
        "\n",
        "plt.subplot(3,2,1)\n",
        "sns.countplot(x = 'month', data = data)\n",
        "\n",
        "plt.subplot(3,2,2)\n",
        "sns.countplot(x = 'contact', data = data)\n",
        "\n",
        "plt.subplot(3,2,3)\n",
        "sns.countplot(x = 'marital', data = data)\n",
        "\n",
        "plt.subplot(3,2,4)\n",
        "sns.countplot(x = 'education', data = data)\n",
        "# plt.xticks( rotation = 90);\n",
        "\n"
      ],
      "execution_count": null,
      "outputs": []
    },
    {
      "cell_type": "markdown",
      "metadata": {
        "id": "SzYUanfoIrrU",
        "colab_type": "text"
      },
      "source": [
        "### Hipoteses\n",
        "\n",
        "O mês de Maio é o mês com amior numero de ligações"
      ]
    },
    {
      "cell_type": "markdown",
      "metadata": {
        "id": "3n1-DyuTmqc1",
        "colab_type": "text"
      },
      "source": [
        "## numerical variables"
      ]
    },
    {
      "cell_type": "code",
      "metadata": {
        "id": "3Vc8wTwxmtzd",
        "colab_type": "code",
        "colab": {}
      },
      "source": [
        "num_atributes.hist(bins = 25);\n"
      ],
      "execution_count": null,
      "outputs": []
    },
    {
      "cell_type": "code",
      "metadata": {
        "id": "tHyDZolNnlWx",
        "colab_type": "code",
        "colab": {}
      },
      "source": [
        "fig, ax = plt.subplots()\n",
        "\n",
        "sns.countplot(x = 'job', data = data)\n",
        "ax.set_title('Age Count Distribution', fontsize=15)\n",
        "ax.tick_params(labelsize=15)"
      ],
      "execution_count": null,
      "outputs": []
    }
  ]
}